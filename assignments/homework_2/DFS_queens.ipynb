{
  "cells": [
    {
      "cell_type": "markdown",
      "metadata": {},
      "source": [
        "DFS:"
      ]
    },
    {
      "cell_type": "markdown",
      "metadata": {
        "id": "buNsAi39imMX"
      },
      "source": [
        "As we did in class, we will represent the board as a one-dimensional array where each position in the arrray is the n'th queen's column value. So if the array is: [1, 3, 0, 2], then the first queen in the first row is in position 1 (from 0--3), the queen in the second row is in position 3 (the last column), the queen in the third row is in the first column and the last queen is the in the second position."
      ]
    },
    {
      "cell_type": "code",
      "execution_count": 7,
      "metadata": {
        "id": "uzr9G6qxiFz7"
      },
      "outputs": [],
      "source": [
        "import time\n",
        "import random #hint -- you will need this for the following code: column=random.randrange(0,size)\n",
        "columns = [] #columns is the locations for each of the queens\n",
        "# columns[r] is a number c if a queen is placed at row r and column c.\n",
        "size = 8"
      ]
    },
    {
      "cell_type": "code",
      "execution_count": 8,
      "metadata": {
        "id": "ule48gb4jlDq"
      },
      "outputs": [],
      "source": [
        "def display():\n",
        "    for column in range(size):\n",
        "        for row in range(len(columns)):\n",
        "            if column == columns[row]:\n",
        "                print('♛', end=' ')\n",
        "            else:\n",
        "                print(' .', end=' ')\n",
        "        print()"
      ]
    },
    {
      "cell_type": "code",
      "execution_count": 9,
      "metadata": {},
      "outputs": [],
      "source": [
        "def place_in_next_row(column):\n",
        "    columns.append(column)\n",
        "\n",
        "def remove_in_current_row():\n",
        "    if len(columns) > 0:\n",
        "        return columns.pop()\n",
        "    return -1\n",
        "\n",
        "def next_row_is_safe(column):\n",
        "    row = len(columns)\n",
        "    # check column\n",
        "    for queen_column in columns:\n",
        "        if column == queen_column:\n",
        "            return False\n",
        "\n",
        "    # check diagonal\n",
        "    for queen_row, queen_column in enumerate(columns):\n",
        "        if queen_column - queen_row == column - row:\n",
        "            return False\n",
        "\n",
        "    # check other diagonal\n",
        "    for queen_row, queen_column in enumerate(columns):\n",
        "        if ((size - queen_column) - queen_row\n",
        "            == (size - column) - row):\n",
        "            return False\n",
        "    return True\n"
      ]
    },
    {
      "cell_type": "markdown",
      "metadata": {
        "id": "IkJ6-mkSkGoo"
      },
      "source": [
        "This of course is not necessary legal, so we'll write a simple DFS search with backtracking:"
      ]
    },
    {
      "cell_type": "code",
      "execution_count": 10,
      "metadata": {
        "id": "8KfrC2oCj-eN"
      },
      "outputs": [],
      "source": [
        "def solve_queens(size):\n",
        "    columns.clear()\n",
        "    number_of_moves = 0 \n",
        "    number_of_iterations = 0\n",
        "    row = 0\n",
        "    column = 4\n",
        "    tic = time.time()\n",
        "    # iterate over rows of board\n",
        "    while True:\n",
        "        #place queen in next row\n",
        "        while column < size:\n",
        "            number_of_iterations+=1\n",
        "            if next_row_is_safe(column):\n",
        "                place_in_next_row(column)\n",
        "                number_of_moves += 1\n",
        "                row += 1\n",
        "                column = 0\n",
        "                break\n",
        "            else:\n",
        "                column += 1\n",
        "        # if I could not find an open column or if board is full\n",
        "        if (column == size or row == size):\n",
        "            number_of_iterations+=1\n",
        "            # if board is full, we have a solution\n",
        "            if row == size:\n",
        "                toc = time.time()\n",
        "                print(\"I did it! Here is my solution\")\n",
        "                print(columns)\n",
        "                display()\n",
        "                return [number_of_moves, number_of_iterations, 1000*(toc-tic)]\n",
        "            # I couldn't find a solution so I now backtrack\n",
        "            prev_column = remove_in_current_row()\n",
        "            if (prev_column == -1): #I backtracked past column 1\n",
        "                print(\"There are no solutions\")\n",
        "                return []\n",
        "            else:\n",
        "                number_of_moves +=1\n",
        "            # try previous row again\n",
        "            row -= 1\n",
        "            # start checking at column = (1 + value of column in previous row)\n",
        "            column = 1 + prev_column\n"
      ]
    },
    {
      "cell_type": "code",
      "execution_count": 11,
      "metadata": {},
      "outputs": [
        {
          "name": "stdout",
          "output_type": "stream",
          "text": [
            "I did it! Here is my solution\n",
            "[4, 0, 3, 5, 7, 1, 6, 2]\n",
            " . ♛  .  .  .  .  .  . \n",
            " .  .  .  .  . ♛  .  . \n",
            " .  .  .  .  .  .  . ♛ \n",
            " .  . ♛  .  .  .  .  . \n",
            "♛  .  .  .  .  .  .  . \n",
            " .  .  . ♛  .  .  .  . \n",
            " .  .  .  .  .  . ♛  . \n",
            " .  .  .  . ♛  .  .  . \n",
            "10\n",
            "42\n",
            "0.026702880859375\n"
          ]
        }
      ],
      "source": [
        "m, i, t = solve_queens(size)\n",
        "print(m)\n",
        "print(i)\n",
        "print(t)"
      ]
    },
    {
      "cell_type": "code",
      "execution_count": 12,
      "metadata": {},
      "outputs": [
        {
          "name": "stdout",
          "output_type": "stream",
          "text": [
            "I did it! Here is my solution\n",
            "[4, 0, 3, 5, 7, 1, 6, 2]\n",
            " . ♛  .  .  .  .  .  . \n",
            " .  .  .  .  . ♛  .  . \n",
            " .  .  .  .  .  .  . ♛ \n",
            " .  . ♛  .  .  .  .  . \n",
            "♛  .  .  .  .  .  .  . \n",
            " .  .  . ♛  .  .  .  . \n",
            " .  .  .  .  .  . ♛  . \n",
            " .  .  .  . ♛  .  .  . \n",
            "10\n",
            "42\n",
            "0.02193450927734375\n"
          ]
        }
      ],
      "source": [
        "import DFS\n",
        "i, m, t = solve_queens(size)\n",
        "print(i)\n",
        "print(m)\n",
        "print(t)"
      ]
    }
  ],
  "metadata": {
    "colab": {
      "provenance": []
    },
    "interpreter": {
      "hash": "b0fa6594d8f4cbf19f97940f81e996739fb7646882a419484c72d19e05852a7e"
    },
    "kernelspec": {
      "display_name": "Python 3.11.3 64-bit",
      "language": "python",
      "name": "python3"
    },
    "language_info": {
      "codemirror_mode": {
        "name": "ipython",
        "version": 3
      },
      "file_extension": ".py",
      "mimetype": "text/x-python",
      "name": "python",
      "nbconvert_exporter": "python",
      "pygments_lexer": "ipython3",
      "version": "3.11.3"
    }
  },
  "nbformat": 4,
  "nbformat_minor": 0
}
