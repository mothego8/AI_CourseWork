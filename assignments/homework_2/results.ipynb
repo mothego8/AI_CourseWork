{
 "cells": [
  {
   "cell_type": "markdown",
   "metadata": {},
   "source": [
    "DFS:"
   ]
  },
  {
   "cell_type": "code",
   "execution_count": 5,
   "metadata": {},
   "outputs": [
    {
     "name": "stdout",
     "output_type": "stream",
     "text": [
      "                           10      11       12      13        14        15  \\\n",
      "n                                                                            \n",
      "number_of_iterations  1068.00  559.00  3316.00  1464.0  28381.00  21625.00   \n",
      "number_of_moves        194.00   93.00   510.00   209.0   3784.00   2703.00   \n",
      "time                     1.17    0.49     1.64     0.5     11.27      8.76   \n",
      "\n",
      "                             16        17         18        19          20  \\\n",
      "n                                                                            \n",
      "number_of_iterations  170749.00  96580.00  784511.00  50711.00  4192126.00   \n",
      "number_of_moves        20088.00  10731.00   82580.00   5071.00   399250.00   \n",
      "time                      69.78     43.49     341.74     21.19     1914.48   \n",
      "\n",
      "                             21           22         23           24  \\\n",
      "n                                                                      \n",
      "number_of_iterations  188134.00  39955072.00  609997.00  10289901.00   \n",
      "number_of_moves        17103.00   3474354.00   50833.00    823192.00   \n",
      "time                      80.78     19041.95     298.23      5307.45   \n",
      "\n",
      "                              25  \n",
      "n                                 \n",
      "number_of_iterations  1265434.00  \n",
      "number_of_moves         97341.00  \n",
      "time                      599.06  \n"
     ]
    }
   ],
   "source": [
    "from DFS import DFS\n",
    "import pandas as pd\n",
    "\n",
    "data = ['number_of_iterations', 'number_of_moves', 'time']\n",
    "dfs_df = pd.DataFrame(data, columns = ['n'])\n",
    "dfs_df = dfs_df.set_index('n')\n",
    "\n",
    "dfs = DFS(10)\n",
    "for i in range(10, 26):\n",
    "    dfs.change_size(i)\n",
    "    dfs_df[i] = dfs.solve_queens()\n",
    "\n",
    "print(dfs_df)"
   ]
  },
  {
   "cell_type": "markdown",
   "metadata": {},
   "source": [
    "BRITISH MUSEUM:"
   ]
  },
  {
   "cell_type": "code",
   "execution_count": 6,
   "metadata": {},
   "outputs": [
    {
     "name": "stdout",
     "output_type": "stream",
     "text": [
      "for BM the time is in seconds\n",
      "                                10\n",
      "n                                 \n",
      "number_of_iterations  1.523425e+07\n",
      "number_of_moves       1.218740e+08\n",
      "time                  6.962000e+01\n"
     ]
    }
   ],
   "source": [
    "from British_Museum import BM\n",
    "\n",
    "import pandas as pd\n",
    "\n",
    "data = ['number_of_iterations', 'number_of_moves', 'time']\n",
    "bm_df = pd.DataFrame(data, columns = ['n'])\n",
    "bm_df = bm_df.set_index('n')\n",
    "\n",
    "bm = BM(10)\n",
    "for i in range(10, 11):\n",
    "    bm.change_size(i)\n",
    "    bm_df[i] = bm.solve_queens()\n",
    "\n",
    "print(\"for BM the time is in seconds\")\n",
    "\n",
    "print(bm_df)\n",
    "\n"
   ]
  },
  {
   "cell_type": "markdown",
   "metadata": {},
   "source": [
    "Hill Climbing:"
   ]
  },
  {
   "cell_type": "code",
   "execution_count": 2,
   "metadata": {},
   "outputs": [
    {
     "name": "stdout",
     "output_type": "stream",
     "text": [
      "                          10      11    12      13     14    15     16     17  \\\n",
      "n                                                                               \n",
      "number_of_iterations  194.00   97.00  46.0  115.00  53.00  21.0  18.00  146.0   \n",
      "number_of_moves       201.00  104.00  53.0  122.00  60.00  28.0  25.00  153.0   \n",
      "time                    3.43    2.24   1.0    3.38   1.64   0.7   0.66    6.6   \n",
      "\n",
      "                        18      19  ...     31     32     33      34      35  \\\n",
      "n                                   ...                                        \n",
      "number_of_iterations  39.0  128.00  ...  71.00  88.00  137.0  155.00  115.00   \n",
      "number_of_moves       46.0  135.00  ...  78.00  95.00  144.0  162.00  122.00   \n",
      "time                   1.9    8.86  ...   8.78  11.56   19.2   23.05   18.33   \n",
      "\n",
      "                          36      37     38      39      40  \n",
      "n                                                            \n",
      "number_of_iterations  137.00   99.00  117.0  141.00  157.00  \n",
      "number_of_moves       144.00  106.00  124.0  148.00  164.00  \n",
      "time                   22.78   16.85   21.9   27.87   30.46  \n",
      "\n",
      "[3 rows x 31 columns]\n"
     ]
    }
   ],
   "source": [
    "from Hill_Climbing import Min_Conflict\n",
    "\n",
    "import pandas as pd\n",
    "\n",
    "data = ['number_of_iterations', 'number_of_moves', 'time']\n",
    "hc_df = pd.DataFrame(data, columns = ['n'])\n",
    "hc_df = hc_df.set_index('n')\n",
    "\n",
    "hc = Min_Conflict(10)\n",
    "for i in range(10, 41):\n",
    "    hc.change_size(i)\n",
    "    hc_df[i] = hc.solve_queens()\n",
    "\n",
    "print(hc_df)"
   ]
  },
  {
   "cell_type": "markdown",
   "metadata": {},
   "source": [
    "Forward Checking: "
   ]
  },
  {
   "cell_type": "code",
   "execution_count": 3,
   "metadata": {},
   "outputs": [
    {
     "name": "stdout",
     "output_type": "stream",
     "text": [
      "                         10     11     12      13      14       15       16  \\\n",
      "n                                                                             \n",
      "number_of_iterations   1.00  216.0  25.00   94.00  139.00   987.00   816.00   \n",
      "number_of_moves       10.00  441.0  60.00  199.00  290.00  1987.00  1646.00   \n",
      "time                   0.23    3.8   0.67    2.12    2.92    21.05    19.71   \n",
      "\n",
      "                          17      18      19  ...      31      32      33  \\\n",
      "n                                             ...                           \n",
      "number_of_iterations   96.00   44.00  215.00  ...  102.00  101.00  256.00   \n",
      "number_of_moves       207.00  104.00  447.00  ...  233.00  232.00  543.00   \n",
      "time                    2.96    1.88    6.69  ...    7.51    7.96   14.55   \n",
      "\n",
      "                          34      35      36       37       38       39  \\\n",
      "n                                                                         \n",
      "number_of_iterations  266.00  476.00  321.00   559.00  1023.00   635.00   \n",
      "number_of_moves       564.00  985.00  676.00  1153.00  2082.00  1307.00   \n",
      "time                   15.86   26.24   22.11    28.55    51.41    35.64   \n",
      "\n",
      "                            40  \n",
      "n                               \n",
      "number_of_iterations  17441.00  \n",
      "number_of_moves       34920.00  \n",
      "time                    954.49  \n",
      "\n",
      "[3 rows x 31 columns]\n"
     ]
    }
   ],
   "source": [
    "from Forward_Checking import Propagation\n",
    "\n",
    "import pandas as pd\n",
    "\n",
    "data = ['number_of_iterations', 'number_of_moves', 'time']\n",
    "fc_df = pd.DataFrame(data, columns = ['n'])\n",
    "fc_df = fc_df.set_index('n')\n",
    "\n",
    "fc = Propagation(10)\n",
    "for i in range(10, 41):\n",
    "    fc.change_size(i)\n",
    "    fc_df[i] = fc.solve_queens()\n",
    "\n",
    "print(fc_df)"
   ]
  },
  {
   "cell_type": "markdown",
   "metadata": {},
   "source": [
    "Forward Checking Vs. Hill Climbing 100 runs comparision"
   ]
  },
  {
   "cell_type": "code",
   "execution_count": 8,
   "metadata": {},
   "outputs": [
    {
     "name": "stdout",
     "output_type": "stream",
     "text": [
      "iterations: forward 398.85 vs. hill 91.57\n",
      "moves: forward 820.7 vs. hill 98.57\n",
      "time: forward 14.91 vs. hill 7.77\n"
     ]
    }
   ],
   "source": [
    "from Forward_Checking import Propagation\n",
    "from Hill_Climbing import Min_Conflict\n",
    "\n",
    "forward = Propagation(25)\n",
    "hill = Min_Conflict(25)\n",
    "\n",
    "f_iterations = 0\n",
    "f_moves = 0\n",
    "f_time = 0\n",
    "\n",
    "h_iterations = 0\n",
    "h_moves = 0\n",
    "h_time = 0\n",
    "\n",
    "for i in range(100):\n",
    "    result = forward.solve_queens()\n",
    "    f_iterations += result[0]\n",
    "    f_moves += result[1]\n",
    "    f_time += result[2]\n",
    "    result = hill.solve_queens()\n",
    "    h_iterations += result[0]\n",
    "    h_moves += result[1]\n",
    "    h_time += result[2]\n",
    "\n",
    "\n",
    "print('iterations: forward ' + str(round(f_iterations/100 ,2)) + ' vs. hill ' + str(round(h_iterations/100 ,2)))\n",
    "print('moves: forward ' + str(round(f_moves/100 ,2)) + ' vs. hill ' + str(round(h_moves/100 ,2)))\n",
    "print('time: forward ' + str(round(f_time/100 ,2)) + ' vs. hill ' + str(round(h_time/100 ,2)))"
   ]
  }
 ],
 "metadata": {
  "interpreter": {
   "hash": "b0fa6594d8f4cbf19f97940f81e996739fb7646882a419484c72d19e05852a7e"
  },
  "kernelspec": {
   "display_name": "Python 3.11.3 64-bit",
   "language": "python",
   "name": "python3"
  },
  "language_info": {
   "codemirror_mode": {
    "name": "ipython",
    "version": 3
   },
   "file_extension": ".py",
   "mimetype": "text/x-python",
   "name": "python",
   "nbconvert_exporter": "python",
   "pygments_lexer": "ipython3",
   "version": "3.11.3"
  },
  "orig_nbformat": 4
 },
 "nbformat": 4,
 "nbformat_minor": 2
}
