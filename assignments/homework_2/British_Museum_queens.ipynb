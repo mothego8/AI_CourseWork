{
 "cells": [
  {
   "cell_type": "markdown",
   "metadata": {},
   "source": [
    "BRITISH MUSEUM:"
   ]
  },
  {
   "cell_type": "markdown",
   "metadata": {},
   "source": [
    "I wasnt sure whether British musuem was placing all pieces at once randomly and then checking if the board was good or placing a piece randomly one at a time and if the board was bad scratch it and start the whole thing over"
   ]
  },
  {
   "cell_type": "markdown",
   "metadata": {},
   "source": [
    "To change size of board just change size variable below"
   ]
  },
  {
   "cell_type": "code",
   "execution_count": 9,
   "metadata": {},
   "outputs": [],
   "source": [
    "import time\n",
    "columns = [] #columns is the locations for each of the queens\n",
    "# columns[r] is a number c if a queen is placed at row r and column c.\n",
    "size = 8\n",
    "import random #hint -- you will need this for the following code: column=random.randrange(0,size)"
   ]
  },
  {
   "cell_type": "code",
   "execution_count": 10,
   "metadata": {},
   "outputs": [],
   "source": [
    "def place_n_queens(size):\n",
    "    columns.clear()\n",
    "    row = 0\n",
    "    while row < size:\n",
    "        column=random.randrange(0,size)\n",
    "        columns.append(column)\n",
    "        row+=1"
   ]
  },
  {
   "cell_type": "code",
   "execution_count": 11,
   "metadata": {},
   "outputs": [],
   "source": [
    "def display():\n",
    "    for row in range(len(columns)):\n",
    "        for column in range(size):\n",
    "            if column == columns[row]:\n",
    "                print('♛', end=' ')\n",
    "            else:\n",
    "                print(' .', end=' ')\n",
    "        print()"
   ]
  },
  {
   "cell_type": "code",
   "execution_count": 12,
   "metadata": {},
   "outputs": [],
   "source": [
    "def place_in_next_row(column):\n",
    "    columns.append(column)\n",
    "\n",
    "def next_row_is_safe(column):\n",
    "    row = len(columns)\n",
    "    # check column\n",
    "    for queen_column in columns:\n",
    "        if column == queen_column:\n",
    "            return False\n",
    "\n",
    "    # check diagonal\n",
    "    for queen_row, queen_column in enumerate(columns):\n",
    "        if queen_column - queen_row == column - row:\n",
    "            return False\n",
    "\n",
    "    # check other diagonal\n",
    "    for queen_row, queen_column in enumerate(columns):\n",
    "        if ((size - queen_column) - queen_row\n",
    "            == (size - column) - row):\n",
    "            return False\n",
    "    return True"
   ]
  },
  {
   "cell_type": "markdown",
   "metadata": {},
   "source": [
    "Placing them randomly one at a time and checking if it's legal, if not restart"
   ]
  },
  {
   "cell_type": "code",
   "execution_count": 13,
   "metadata": {},
   "outputs": [],
   "source": [
    "def solve_queens_bm_1(size):\n",
    "    number_iter = 0\n",
    "    number_moves = 0\n",
    "    tic = time.time()\n",
    "    while True:\n",
    "        number_iter += 1\n",
    "        columns.clear()\n",
    "        row = 0\n",
    "        while row < size:\n",
    "            column=random.randrange(0,size)\n",
    "            if not next_row_is_safe(column):\n",
    "                break\n",
    "            columns.append(column)\n",
    "            number_moves += 1\n",
    "            row+=1\n",
    "        if row == size:\n",
    "            toc = time.time()\n",
    "            display()\n",
    "            return [number_moves, number_iter, 1000*(toc-tic)]"
   ]
  },
  {
   "cell_type": "code",
   "execution_count": 14,
   "metadata": {},
   "outputs": [
    {
     "name": "stdout",
     "output_type": "stream",
     "text": [
      " .  .  . ♛  .  .  .  . \n",
      " .  .  .  .  .  .  . ♛ \n",
      " .  .  .  . ♛  .  .  . \n",
      " .  . ♛  .  .  .  .  . \n",
      "♛  .  .  .  .  .  .  . \n",
      " .  .  .  .  .  . ♛  . \n",
      " . ♛  .  .  .  .  .  . \n",
      " .  .  .  .  . ♛  .  . \n",
      "802977\n",
      "394922\n",
      "653.9981365203857\n"
     ]
    }
   ],
   "source": [
    "m, i, t = solve_queens_bm_1(size)\n",
    "print(m)\n",
    "print(i)\n",
    "print(t)"
   ]
  },
  {
   "cell_type": "markdown",
   "metadata": {},
   "source": [
    "Placing all 8 pieces down randomly at once and checking if board works, if not replace all 8 again until solution is found randomly"
   ]
  },
  {
   "cell_type": "code",
   "execution_count": 15,
   "metadata": {},
   "outputs": [],
   "source": [
    "def solve_queens_bm_2(size):\n",
    "    num_m = 0\n",
    "    num_i = 0\n",
    "    tic = time.time()\n",
    "    while True:\n",
    "        place_n_queens(size)\n",
    "        num_m += 8\n",
    "        num_i += 1\n",
    "        solved = True\n",
    "        temp = columns.copy()\n",
    "        columns.clear()\n",
    "        for column in temp:\n",
    "            if not next_row_is_safe(column):\n",
    "                solved = False\n",
    "                break\n",
    "            else:\n",
    "                place_in_next_row(column)\n",
    "        if solved:\n",
    "            toc = time.time()\n",
    "            display()\n",
    "            return [num_m, num_i, 1000*(toc-tic)]"
   ]
  },
  {
   "cell_type": "code",
   "execution_count": 16,
   "metadata": {},
   "outputs": [
    {
     "name": "stdout",
     "output_type": "stream",
     "text": [
      " . ♛  .  .  .  .  .  . \n",
      " .  .  .  . ♛  .  .  . \n",
      " .  .  .  .  .  . ♛  . \n",
      " .  .  . ♛  .  .  .  . \n",
      "♛  .  .  .  .  .  .  . \n",
      " .  .  .  .  .  .  . ♛ \n",
      " .  .  .  .  . ♛  .  . \n",
      " .  . ♛  .  .  .  .  . \n",
      "2652784\n",
      "331598\n",
      "1096.7519283294678\n"
     ]
    }
   ],
   "source": [
    "m, i, t = solve_queens_bm_2(size)\n",
    "print(m)\n",
    "print(i)\n",
    "print(t)"
   ]
  }
 ],
 "metadata": {
  "interpreter": {
   "hash": "b0fa6594d8f4cbf19f97940f81e996739fb7646882a419484c72d19e05852a7e"
  },
  "kernelspec": {
   "display_name": "Python 3.11.3 64-bit",
   "language": "python",
   "name": "python3"
  },
  "language_info": {
   "codemirror_mode": {
    "name": "ipython",
    "version": 3
   },
   "file_extension": ".py",
   "mimetype": "text/x-python",
   "name": "python",
   "nbconvert_exporter": "python",
   "pygments_lexer": "ipython3",
   "version": "3.11.3"
  },
  "orig_nbformat": 4
 },
 "nbformat": 4,
 "nbformat_minor": 2
}
