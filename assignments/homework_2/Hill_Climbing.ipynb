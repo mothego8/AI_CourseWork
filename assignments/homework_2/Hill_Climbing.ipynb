{
 "cells": [
  {
   "cell_type": "code",
   "execution_count": 1,
   "metadata": {},
   "outputs": [],
   "source": [
    "import queue\n",
    "import time\n",
    "columns = [] #columns is the locations for each of the queens\n",
    "# columns[r] is a number c if a queen is placed at row r and column c.\n",
    "size = 8\n",
    "import random #hint -- you will need this for the following code: column=random.randrange(0,size)"
   ]
  },
  {
   "cell_type": "code",
   "execution_count": 2,
   "metadata": {},
   "outputs": [],
   "source": [
    "def place_n_queens(size):\n",
    "    columns.clear()\n",
    "    row = 0\n",
    "    while row < size:\n",
    "        column=random.randrange(0,size)\n",
    "        columns.append(column)\n",
    "        row+=1"
   ]
  },
  {
   "cell_type": "code",
   "execution_count": 3,
   "metadata": {},
   "outputs": [],
   "source": [
    "def display():\n",
    "    for column in range(size):\n",
    "        for row in range(size):\n",
    "            if column == columns[row]:\n",
    "                print(' ♛ ', end=' ')\n",
    "            else:\n",
    "                print(' . ', end=' ')\n",
    "        print()"
   ]
  },
  {
   "cell_type": "markdown",
   "metadata": {},
   "source": [
    "this is min_conflicts code:"
   ]
  },
  {
   "cell_type": "markdown",
   "metadata": {},
   "source": [
    "need to figure out how to implement heuristic"
   ]
  },
  {
   "cell_type": "code",
   "execution_count": 4,
   "metadata": {},
   "outputs": [],
   "source": [
    "def allQueensSafe():\n",
    "    n = len(columns)  # The size of the board\n",
    "\n",
    "    # Check for diagonal attacks\n",
    "    for i in range(n):\n",
    "        for j in range(i + 1, n):\n",
    "            if abs(columns[i] - columns[j]) == abs(i - j):\n",
    "                return False\n",
    "\n",
    "    # Check for horizontal attacks (same col)\n",
    "    for i in range(n):\n",
    "        for j in range(i + 1, n):\n",
    "            if columns[i] == columns[j]:\n",
    "                return False\n",
    "\n",
    "    # No conflicts found, the placement is valid\n",
    "    return True"
   ]
  },
  {
   "cell_type": "code",
   "execution_count": 5,
   "metadata": {},
   "outputs": [],
   "source": [
    "def move_queen(startPos, endPos):\n",
    "    columns[startPos] = endPos"
   ]
  },
  {
   "cell_type": "code",
   "execution_count": 6,
   "metadata": {},
   "outputs": [],
   "source": [
    "def pickRandomQueen():\n",
    "    return random.randrange(0,size)"
   ]
  },
  {
   "cell_type": "code",
   "execution_count": 7,
   "metadata": {},
   "outputs": [],
   "source": [
    "def specificQueenConflicts(col): # returns number of pieces attacking queen at position pos\n",
    "    n = size\n",
    "    conflicts = 0\n",
    "\n",
    "    # Get the row where the queen in the specified column is located\n",
    "    row = columns[col]\n",
    "\n",
    "    # Check conflicts in the same column (vertical)\n",
    "    for i in range(n):\n",
    "        if i != col and columns[i] == row:\n",
    "            conflicts += 1\n",
    "\n",
    "    # Check conflicts in diagonals\n",
    "    for i in range(n):\n",
    "        if i != col:\n",
    "            diff_col = abs(col - i)\n",
    "            diff_row = abs(row - columns[i])\n",
    "            if diff_col == diff_row:\n",
    "                conflicts += 1\n",
    "\n",
    "    return conflicts"
   ]
  },
  {
   "cell_type": "code",
   "execution_count": 8,
   "metadata": {},
   "outputs": [],
   "source": [
    "def prepareConflicts(queens):\n",
    "    pq = queue.PriorityQueue()\n",
    "    for q in queens:\n",
    "        pq.put(specificQueenConflicts(q), q)\n",
    "    return pq"
   ]
  },
  {
   "cell_type": "code",
   "execution_count": 9,
   "metadata": {},
   "outputs": [],
   "source": [
    "def n_queens():\n",
    "    # checks if each queen is safe\n",
    "    tic = time.time()\n",
    "    solution = True\n",
    "    prev = columns.copy()\n",
    "    counter = 0\n",
    "    # conflicts = prepareConflicts(columns)\n",
    "    while(not allQueensSafe()):\n",
    "        minAttacks = size + 1 # n + 1 is greater than any possibility of attacks so this is guaranteed to get minimized\n",
    "        pickedQueen = pickRandomQueen() # returns a random column\n",
    "        original = columns[pickedQueen] #original row its in\n",
    "        for pos in range(size): # iterate through all positions of pickedQueen and move to position of minimum conflict\n",
    "            move_queen(pickedQueen,pos) # try to move to diff row\n",
    "            newNumberOfConflicts = specificQueenConflicts(pickedQueen)\n",
    "            if(newNumberOfConflicts < minAttacks ):\n",
    "                minConflictPosition = pos\n",
    "                minAttacks = newNumberOfConflicts\n",
    "                if minAttacks == 0:\n",
    "                    break\n",
    "            move_queen(pickedQueen, original) # move queen back\n",
    "        move_queen(pickedQueen,minConflictPosition)# move queen to least conflict spot\n",
    "        \n",
    "        if columns == prev:\n",
    "            counter+=1\n",
    "            if counter > 2:\n",
    "                # for i in range(random.randrange(0,size)):\n",
    "                #     col = pickRandomQueen()\n",
    "                #     columns[col] = random.randrange(0,size)\n",
    "                place_n_queens(size)\n",
    "                counter = 0\n",
    "        else:\n",
    "            prev = columns.copy()\n",
    "        toc = time.time()\n",
    "        if(toc - tic > 10):\n",
    "            print(\"no solution\")\n",
    "            display()\n",
    "            solution = False\n",
    "            break\n",
    "    if solution:\n",
    "        print(\" got em \")\n",
    "        display()\n",
    "        "
   ]
  },
  {
   "cell_type": "code",
   "execution_count": 18,
   "metadata": {},
   "outputs": [
    {
     "name": "stdout",
     "output_type": "stream",
     "text": [
      " .   .   .   .   .   .   .   .   .   ♛   .   .   .   .   .   .   .   .   .   ♛  \n",
      " .   .   .   .   .   .   .   .   .   .   .   .   .   .   .   .   .   .   .   .  \n",
      " ♛   .   .   .   .   .   .   .   .   .   .   .   .   .   .   .   .   .   .   .  \n",
      " .   .   .   .   .   .   .   .   .   .   .   .   .   .   .   .   .   .   .   .  \n",
      " .   .   .   .   .   .   .   .   .   .   .   .   .   .   .   .   .   .   .   .  \n",
      " .   .   .   .   .   .   .   .   .   .   .   .   .   .   .   .   .   .   .   .  \n",
      " .   .   .   .   .   .   .   .   .   .   ♛   ♛   .   .   .   .   .   .   .   .  \n",
      " .   .   .   .   .   .   ♛   ♛   .   .   .   .   .   .   .   .   .   .   .   .  \n",
      " .   .   .   .   .   .   .   .   .   .   .   .   .   .   .   .   .   .   .   .  \n",
      " .   .   ♛   .   .   .   .   .   .   .   .   .   .   .   .   .   .   .   ♛   .  \n",
      " .   ♛   .   .   .   .   .   .   .   .   .   .   .   .   .   ♛   .   .   .   .  \n",
      " .   .   .   .   .   .   .   .   .   .   .   .   .   ♛   .   .   .   .   .   .  \n",
      " .   .   .   .   .   .   .   .   .   .   .   .   .   .   .   .   .   .   .   .  \n",
      " .   .   .   .   .   ♛   .   .   .   .   .   .   ♛   .   .   .   ♛   .   .   .  \n",
      " .   .   .   .   .   .   .   .   ♛   .   .   .   .   .   .   .   .   .   .   .  \n",
      " .   .   .   .   .   .   .   .   .   .   .   .   .   .   .   .   .   .   .   .  \n",
      " .   .   .   .   .   .   .   .   .   .   .   .   .   .   .   .   .   ♛   .   .  \n",
      " .   .   .   .   .   .   .   .   .   .   .   .   .   .   ♛   .   .   .   .   .  \n",
      " .   .   .   .   ♛   .   .   .   .   .   .   .   .   .   .   .   .   .   .   .  \n",
      " .   .   .   ♛   .   .   .   .   .   .   .   .   .   .   .   .   .   .   .   .  \n",
      "\n",
      "no solution\n",
      " .   .   .   .   .   .   .   .   .   .   .   .   .   .   .   .   .   .   ♛   .  \n",
      " .   .   .   .   .   .   .   .   .   .   ♛   .   .   .   .   .   .   .   .   .  \n",
      " .   ♛   .   .   .   .   .   .   ♛   .   .   .   .   .   .   .   .   .   .   .  \n",
      " .   .   .   .   .   .   .   .   .   .   .   .   .   .   .   .   .   .   .   .  \n",
      " .   .   .   .   .   .   .   .   .   .   .   .   .   .   .   .   .   .   .   .  \n",
      " ♛   .   .   .   .   .   .   .   .   .   .   .   .   ♛   ♛   .   .   .   .   .  \n",
      " .   .   ♛   .   .   .   .   .   .   .   .   .   .   .   .   .   .   .   .   .  \n",
      " .   .   .   ♛   .   .   .   .   .   .   .   .   .   .   .   .   .   ♛   .   .  \n",
      " .   .   .   .   ♛   .   .   .   .   .   .   .   .   .   .   .   ♛   .   .   .  \n",
      " .   .   .   .   .   .   ♛   .   .   .   .   .   .   .   .   ♛   .   .   .   .  \n",
      " .   .   .   .   .   ♛   .   .   .   .   .   .   .   .   .   .   .   .   .   ♛  \n",
      " .   .   .   .   .   .   .   .   .   ♛   .   .   ♛   .   .   .   .   .   .   .  \n",
      " .   .   .   .   .   .   .   .   .   .   .   ♛   .   .   .   .   .   .   .   .  \n",
      " .   .   .   .   .   .   .   .   .   .   .   .   .   .   .   .   .   .   .   .  \n",
      " .   .   .   .   .   .   .   ♛   .   .   .   .   .   .   .   .   .   .   .   .  \n",
      " .   .   .   .   .   .   .   .   .   .   .   .   .   .   .   .   .   .   .   .  \n",
      " .   .   .   .   .   .   .   .   .   .   .   .   .   .   .   .   .   .   .   .  \n",
      " .   .   .   .   .   .   .   .   .   .   .   .   .   .   .   .   .   .   .   .  \n",
      " .   .   .   .   .   .   .   .   .   .   .   .   .   .   .   .   .   .   .   .  \n",
      " .   .   .   .   .   .   .   .   .   .   .   .   .   .   .   .   .   .   .   .  \n"
     ]
    }
   ],
   "source": [
    "import time\n",
    "\n",
    "# n =10\n",
    "# for i in range(n):\n",
    "#     place_n_queens(size)\n",
    "#     n_queens()\n",
    "size = 20\n",
    "place_n_queens(size)\n",
    "display()\n",
    "print()\n",
    "n_queens()\n",
    "# print(display())"
   ]
  }
 ],
 "metadata": {
  "interpreter": {
   "hash": "b0fa6594d8f4cbf19f97940f81e996739fb7646882a419484c72d19e05852a7e"
  },
  "kernelspec": {
   "display_name": "Python 3.11.3 64-bit",
   "language": "python",
   "name": "python3"
  },
  "language_info": {
   "codemirror_mode": {
    "name": "ipython",
    "version": 3
   },
   "file_extension": ".py",
   "mimetype": "text/x-python",
   "name": "python",
   "nbconvert_exporter": "python",
   "pygments_lexer": "ipython3",
   "version": "3.11.3"
  },
  "orig_nbformat": 4
 },
 "nbformat": 4,
 "nbformat_minor": 2
}
