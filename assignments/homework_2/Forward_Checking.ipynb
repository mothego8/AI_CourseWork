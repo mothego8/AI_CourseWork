{
 "cells": [
  {
   "cell_type": "markdown",
   "metadata": {},
   "source": [
    "Forward Checking:"
   ]
  },
  {
   "cell_type": "code",
   "execution_count": 1,
   "metadata": {},
   "outputs": [],
   "source": [
    "import time\n",
    "import random #hint -- you will need this for the following code: column=random.randrange(0,size)\n",
    "import copy\n",
    "\n",
    "stack = []\n",
    "columns = [] #columns is the locations for each of the queens\n",
    "\n",
    "# columns[r] is a number c if a queen is placed at row r and column c.\n",
    "size = 8\n",
    "available_squares = [[True] * size for _ in range(size)]"
   ]
  },
  {
   "cell_type": "code",
   "execution_count": 2,
   "metadata": {},
   "outputs": [],
   "source": [
    "def display():\n",
    "    for column in range(size):\n",
    "        for row in range(len(columns)):\n",
    "            if column == columns[row]:\n",
    "                print(' ♛ ', end=' ')\n",
    "            else:\n",
    "                print(' . ', end=' ')\n",
    "        print()"
   ]
  },
  {
   "cell_type": "code",
   "execution_count": 3,
   "metadata": {},
   "outputs": [],
   "source": [
    "\n",
    "def remove_possible_values(column_row_map, column, row):\n",
    "    # Remove the specified row from the list of possible rows for the given column\n",
    "    # column_row_map[column].remove(row)\n",
    "\n",
    "    # Remove rows that are diagonally threatened\n",
    "    for col, rows in column_row_map.items():\n",
    "        if col != column:\n",
    "            diagonal_distance = abs(column - col)\n",
    "            if row - diagonal_distance in rows:\n",
    "                rows.remove(row - diagonal_distance)\n",
    "            if row + diagonal_distance in rows:\n",
    "                rows.remove(row + diagonal_distance)\n",
    "    \n",
    "      # Remove rows that are horizontally threatened\n",
    "    for col, rows in column_row_map.items():\n",
    "        if col != column and row in rows:\n",
    "            rows.remove(row)\n",
    "\n",
    "\n"
   ]
  },
  {
   "cell_type": "code",
   "execution_count": 4,
   "metadata": {},
   "outputs": [],
   "source": [
    "def solve_queens(size):\n",
    "    columns.clear()\n",
    "    row = 0\n",
    "    column = 0\n",
    "    constraint = {}\n",
    "\n",
    "    for i in range(size):\n",
    "        constraint[i] = list(range(size))\n",
    "\n",
    "    stack.append(copy.deepcopy(constraint))\n",
    "\n",
    "    while True:\n",
    "        while column < size:\n",
    "            if not constraint[column]:\n",
    "                old = columns.pop()\n",
    "                if old == -1:\n",
    "                    print(\"no solutions\")\n",
    "                    break\n",
    "\n",
    "                column -= 1\n",
    "                constraint = stack.pop()\n",
    "                continue\n",
    "            else:\n",
    "                row = random.randrange(0, len(constraint[column]))\n",
    "                new_row = constraint[column][row]\n",
    "                constraint[column].remove(new_row)\n",
    "                columns.append(new_row)\n",
    "                stack.append(copy.deepcopy(constraint))\n",
    "                remove_possible_values(constraint, column, new_row)\n",
    "                column += 1\n",
    "        if column == size:\n",
    "            display()\n",
    "            break\n"
   ]
  },
  {
   "cell_type": "code",
   "execution_count": 5,
   "metadata": {},
   "outputs": [
    {
     "name": "stdout",
     "output_type": "stream",
     "text": [
      " .   .   .   .   .   .   .   .   .   .   .   .   .   .   ♛   .   .   .   .   .   .   .   .   .   .   .   .   .   .   .   .   .   .   .   .   .   .   .   .   .  \n",
      " .   .   .   .   .   .   .   .   ♛   .   .   .   .   .   .   .   .   .   .   .   .   .   .   .   .   .   .   .   .   .   .   .   .   .   .   .   .   .   .   .  \n",
      " .   .   .   .   .   .   .   .   .   .   .   .   .   .   .   .   .   .   .   .   .   .   .   .   ♛   .   .   .   .   .   .   .   .   .   .   .   .   .   .   .  \n",
      " .   .   .   .   ♛   .   .   .   .   .   .   .   .   .   .   .   .   .   .   .   .   .   .   .   .   .   .   .   .   .   .   .   .   .   .   .   .   .   .   .  \n",
      " .   .   .   .   .   .   .   .   .   .   .   .   .   .   .   .   .   ♛   .   .   .   .   .   .   .   .   .   .   .   .   .   .   .   .   .   .   .   .   .   .  \n",
      " .   .   .   .   .   .   .   .   .   .   ♛   .   .   .   .   .   .   .   .   .   .   .   .   .   .   .   .   .   .   .   .   .   .   .   .   .   .   .   .   .  \n",
      " .   .   .   .   .   .   .   .   .   .   .   .   .   .   .   .   .   .   .   .   .   .   .   .   .   .   .   .   .   .   .   .   .   ♛   .   .   .   .   .   .  \n",
      " .   .   .   .   .   .   .   .   .   .   .   .   .   .   .   .   .   .   .   .   .   .   .   .   .   .   ♛   .   .   .   .   .   .   .   .   .   .   .   .   .  \n",
      " .   .   .   .   .   .   .   .   .   .   .   .   .   .   .   .   .   .   .   ♛   .   .   .   .   .   .   .   .   .   .   .   .   .   .   .   .   .   .   .   .  \n",
      " .   .   .   .   .   .   .   .   .   ♛   .   .   .   .   .   .   .   .   .   .   .   .   .   .   .   .   .   .   .   .   .   .   .   .   .   .   .   .   .   .  \n",
      " .   .   .   .   .   .   .   .   .   .   .   .   .   .   .   .   .   .   .   .   .   .   .   .   .   .   .   .   .   .   .   .   .   .   .   .   .   .   ♛   .  \n",
      " .   .   .   .   .   .   .   .   .   .   .   .   .   .   .   .   .   .   .   .   .   .   .   .   .   .   .   .   .   ♛   .   .   .   .   .   .   .   .   .   .  \n",
      " .   .   .   .   .   ♛   .   .   .   .   .   .   .   .   .   .   .   .   .   .   .   .   .   .   .   .   .   .   .   .   .   .   .   .   .   .   .   .   .   .  \n",
      " .   .   .   .   .   .   .   .   .   .   .   .   .   .   .   .   .   .   .   .   .   .   .   ♛   .   .   .   .   .   .   .   .   .   .   .   .   .   .   .   .  \n",
      " .   .   .   .   .   .   .   .   .   .   .   .   .   .   .   .   .   .   .   .   .   .   .   .   .   .   .   .   .   .   ♛   .   .   .   .   .   .   .   .   .  \n",
      " .   .   .   .   .   .   .   .   .   .   .   .   .   .   .   .   .   .   .   .   .   .   .   .   .   .   .   .   .   .   .   .   .   .   .   .   .   .   .   ♛  \n",
      " .   .   .   .   .   .   .   .   .   .   .   .   .   .   .   .   .   .   .   .   .   .   .   .   .   ♛   .   .   .   .   .   .   .   .   .   .   .   .   .   .  \n",
      " .   .   ♛   .   .   .   .   .   .   .   .   .   .   .   .   .   .   .   .   .   .   .   .   .   .   .   .   .   .   .   .   .   .   .   .   .   .   .   .   .  \n",
      " .   .   .   .   .   .   .   .   .   .   .   .   .   .   .   .   .   .   .   .   .   .   .   .   .   .   .   .   .   .   .   .   .   .   .   ♛   .   .   .   .  \n",
      " .   .   .   .   .   .   .   .   .   .   .   .   .   .   .   .   .   .   .   .   .   .   .   .   .   .   .   ♛   .   .   .   .   .   .   .   .   .   .   .   .  \n",
      " .   .   .   .   .   .   .   .   .   .   .   .   .   .   .   ♛   .   .   .   .   .   .   .   .   .   .   .   .   .   .   .   .   .   .   .   .   .   .   .   .  \n",
      " .   .   .   .   .   .   .   .   .   .   .   .   .   .   .   .   .   .   .   .   .   .   .   .   .   .   .   .   .   .   .   .   .   .   .   .   ♛   .   .   .  \n",
      " .   ♛   .   .   .   .   .   .   .   .   .   .   .   .   .   .   .   .   .   .   .   .   .   .   .   .   .   .   .   .   .   .   .   .   .   .   .   .   .   .  \n",
      " .   .   .   .   .   .   .   .   .   .   .   .   .   .   .   .   .   .   .   .   ♛   .   .   .   .   .   .   .   .   .   .   .   .   .   .   .   .   .   .   .  \n",
      " .   .   .   .   .   .   .   .   .   .   .   .   .   ♛   .   .   .   .   .   .   .   .   .   .   .   .   .   .   .   .   .   .   .   .   .   .   .   .   .   .  \n",
      " .   .   .   .   .   .   ♛   .   .   .   .   .   .   .   .   .   .   .   .   .   .   .   .   .   .   .   .   .   .   .   .   .   .   .   .   .   .   .   .   .  \n",
      " .   .   .   .   .   .   .   .   .   .   .   .   .   .   .   .   ♛   .   .   .   .   .   .   .   .   .   .   .   .   .   .   .   .   .   .   .   .   .   .   .  \n",
      " .   .   .   .   .   .   .   .   .   .   .   ♛   .   .   .   .   .   .   .   .   .   .   .   .   .   .   .   .   .   .   .   .   .   .   .   .   .   .   .   .  \n",
      " .   .   .   .   .   .   .   .   .   .   .   .   .   .   .   .   .   .   .   .   .   .   .   .   .   .   .   .   .   .   .   .   .   .   ♛   .   .   .   .   .  \n",
      " .   .   .   .   .   .   .   .   .   .   .   .   .   .   .   .   .   .   .   .   .   .   .   .   .   .   .   .   .   .   .   .   ♛   .   .   .   .   .   .   .  \n",
      " ♛   .   .   .   .   .   .   .   .   .   .   .   .   .   .   .   .   .   .   .   .   .   .   .   .   .   .   .   .   .   .   .   .   .   .   .   .   .   .   .  \n",
      " .   .   .   ♛   .   .   .   .   .   .   .   .   .   .   .   .   .   .   .   .   .   .   .   .   .   .   .   .   .   .   .   .   .   .   .   .   .   .   .   .  \n",
      " .   .   .   .   .   .   .   .   .   .   .   .   .   .   .   .   .   .   ♛   .   .   .   .   .   .   .   .   .   .   .   .   .   .   .   .   .   .   .   .   .  \n",
      " .   .   .   .   .   .   .   .   .   .   .   .   .   .   .   .   .   .   .   .   .   .   .   .   .   .   .   .   .   .   .   .   .   .   .   .   .   ♛   .   .  \n",
      " .   .   .   .   .   .   .   .   .   .   .   .   .   .   .   .   .   .   .   .   .   .   ♛   .   .   .   .   .   .   .   .   .   .   .   .   .   .   .   .   .  \n",
      " .   .   .   .   .   .   .   .   .   .   .   .   .   .   .   .   .   .   .   .   .   .   .   .   .   .   .   .   .   .   .   ♛   .   .   .   .   .   .   .   .  \n",
      " .   .   .   .   .   .   .   .   .   .   .   .   .   .   .   .   .   .   .   .   .   .   .   .   .   .   .   .   ♛   .   .   .   .   .   .   .   .   .   .   .  \n",
      " .   .   .   .   .   .   .   .   .   .   .   .   ♛   .   .   .   .   .   .   .   .   .   .   .   .   .   .   .   .   .   .   .   .   .   .   .   .   .   .   .  \n",
      " .   .   .   .   .   .   .   ♛   .   .   .   .   .   .   .   .   .   .   .   .   .   .   .   .   .   .   .   .   .   .   .   .   .   .   .   .   .   .   .   .  \n",
      " .   .   .   .   .   .   .   .   .   .   .   .   .   .   .   .   .   .   .   .   .   ♛   .   .   .   .   .   .   .   .   .   .   .   .   .   .   .   .   .   .  \n"
     ]
    }
   ],
   "source": [
    "size = 40\n",
    "solve_queens(size)"
   ]
  }
 ],
 "metadata": {
  "interpreter": {
   "hash": "b0fa6594d8f4cbf19f97940f81e996739fb7646882a419484c72d19e05852a7e"
  },
  "kernelspec": {
   "display_name": "Python 3.11.3 64-bit",
   "language": "python",
   "name": "python3"
  },
  "language_info": {
   "codemirror_mode": {
    "name": "ipython",
    "version": 3
   },
   "file_extension": ".py",
   "mimetype": "text/x-python",
   "name": "python",
   "nbconvert_exporter": "python",
   "pygments_lexer": "ipython3",
   "version": "3.11.3"
  },
  "orig_nbformat": 4
 },
 "nbformat": 4,
 "nbformat_minor": 2
}
