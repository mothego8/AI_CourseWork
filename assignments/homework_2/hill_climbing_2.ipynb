{
 "cells": [
  {
   "cell_type": "code",
   "execution_count": 1,
   "metadata": {},
   "outputs": [],
   "source": [
    "import time\n",
    "columns = [] #columns is the locations for each of the queens\n",
    "conflicts = []\n",
    "# columns[r] is a number c if a queen is placed at row r and column c.\n",
    "size = 8\n",
    "import random #hint -- you will need this for the following code: column=random.randrange(0,size)"
   ]
  },
  {
   "cell_type": "code",
   "execution_count": 2,
   "metadata": {},
   "outputs": [],
   "source": [
    "def place_n_queens(size):\n",
    "    columns.clear()\n",
    "    row = 0\n",
    "    while row < size:\n",
    "        column=random.randrange(0,size)\n",
    "        columns.append(column)\n",
    "        row+=1"
   ]
  },
  {
   "cell_type": "code",
   "execution_count": 3,
   "metadata": {},
   "outputs": [],
   "source": [
    "def display():\n",
    "    for column in range(size):\n",
    "        for row in range(size):\n",
    "            if column == columns[row]:\n",
    "                print(' ♛ ', end=' ')\n",
    "            else:\n",
    "                print(' . ', end=' ')\n",
    "        print()"
   ]
  },
  {
   "cell_type": "code",
   "execution_count": 4,
   "metadata": {},
   "outputs": [],
   "source": [
    "# creates list of how many conflicts each queen has\n",
    "\n",
    "def q_conflicts():\n",
    "    rows = {}\n",
    "    rdiags = {}\n",
    "    ldiags = {}\n",
    "    N = len(columns)\n",
    "    for col, row in enumerate(columns):\n",
    "        rows[row] = rows.get(row, -1) + 1\n",
    "        rdiags[row - col] = rdiags.get(row - col, -1) + 1\n",
    "        ldiags[row - (N - col)] = ldiags.get(row - (N - col), -1) + 1\n",
    "    conflicts = []\n",
    "    for col, row in enumerate(columns):\n",
    "        conflicts.append(rows.get(row, 0) + rdiags.get(row - col, 0) + ldiags.get(row - (N - col), 0))\n",
    "    return conflicts\n",
    "    \n"
   ]
  },
  {
   "cell_type": "code",
   "execution_count": 5,
   "metadata": {},
   "outputs": [],
   "source": [
    "def update_conflicts(queens, conflicts, col, new_row, min_conf):\n",
    "    conflicts[col] = min_conf\n",
    "    old_row = queens[col]\n",
    "    \n",
    "    for col2, row2 in enumerate(queens):\n",
    "        if col == col2:\n",
    "            continue\n",
    "        # remove all conflicts with old_row\n",
    "        if (old_row == row2) or (abs(old_row - row2) == abs(col - col2)):\n",
    "            conflicts[col2] -= 1\n",
    "        # add all conflicts with new_row\n",
    "        if (new_row == row2) or (abs(new_row - row2) == abs(col - col2)):\n",
    "            conflicts[col2] += 1\n",
    "            conflicts[col] += 1\n",
    "\n",
    "    # conflicts[col] = min_conf "
   ]
  },
  {
   "cell_type": "code",
   "execution_count": 6,
   "metadata": {},
   "outputs": [],
   "source": [
    "def row_conflicts(queens, N, col):\n",
    "    row_confs = [0 for _ in range(N)]\n",
    "    for col_q, row_q in enumerate(queens):\n",
    "        if col_q == col:\n",
    "            continue\n",
    "        row_confs[row_q] += 1  # add conflict for matching row\n",
    "        if 0 <= row_q + abs(col_q - col) < N:\n",
    "            row_confs[row_q + abs(col_q - col)] += 1\n",
    "        if 0 <= row_q - abs(col_q - col) < N:\n",
    "            row_confs[row_q - abs(col_q - col)] += 1\n",
    "    return row_confs"
   ]
  },
  {
   "cell_type": "code",
   "execution_count": 7,
   "metadata": {},
   "outputs": [],
   "source": [
    "def row_conf(queens, N, col):\n",
    "    conflicts = [0 for _ in range(N)]\n",
    "    \n",
    "    for j in range(N):\n",
    "        # Check conflicts in the same column (vertical)\n",
    "        for i in range(N):\n",
    "            if i != col and columns[i] == j:\n",
    "                conflicts[j] += 1\n",
    "\n",
    "        # Check conflicts in diagonals\n",
    "        for i in range(N):\n",
    "            if i != col:\n",
    "                diff_col = abs(col - i)\n",
    "                diff_row = abs(j - columns[i])\n",
    "                if diff_col == diff_row:\n",
    "                    conflicts[j] += 1\n",
    "                    \n",
    "    return conflicts"
   ]
  },
  {
   "cell_type": "code",
   "execution_count": 8,
   "metadata": {},
   "outputs": [],
   "source": [
    "def pick_position(arr, N, cond):\n",
    "    return random.choice([i for i in range(N) if cond(arr[i])])"
   ]
  },
  {
   "cell_type": "code",
   "execution_count": 9,
   "metadata": {},
   "outputs": [],
   "source": [
    "def n_queens():\n",
    "    conflicts = q_conflicts() # O(n)\n",
    "    while sum(conflicts) != 0:\n",
    "        # pick a queen that has at least one conflict\n",
    "        col = pick_position(conflicts, size, lambda x: x > 0)  # O(N)\n",
    "\n",
    "        # a map of all the rows and what the conflicts would be if we switchewd our queen to that row \n",
    "        # row_confs = row_conflicts(columns, size, col)  # O(N)\n",
    "        row_confs = row_conf(columns, size, col)\n",
    "\n",
    "        # gets the row with the fewest conflict\n",
    "        min_conf = min(row_confs)  # O(N)\n",
    "\n",
    "        # gets the index of row with fewest conlfict. \n",
    "        # since many rows could have the same fewest conflicts we choose this index randomly from the set of\n",
    "        # rows with this fewest conflicts\n",
    "        new_row = pick_position(row_confs, size, lambda x: x == min_conf)  # O(N)\n",
    "        \n",
    "        # update conflicts\n",
    "        # we move our queen to the row with fewest conflicts and update how many conflicts that queen has now\n",
    "        update_conflicts(columns, conflicts, col, new_row, min_conf)  # O(N)\n",
    "       \n",
    "        # we officially change the row of our queen\n",
    "        columns[col] = new_row\n",
    "        \n",
    "    display()\n"
   ]
  },
  {
   "cell_type": "code",
   "execution_count": 10,
   "metadata": {},
   "outputs": [
    {
     "name": "stdout",
     "output_type": "stream",
     "text": [
      " .   .   .   .   .   ♛   .   .   .   .  \n",
      " ♛   ♛   .   .   .   .   .   ♛   .   .  \n",
      " .   .   .   .   .   .   .   .   ♛   .  \n",
      " .   .   .   .   .   .   .   .   .   .  \n",
      " .   .   .   .   ♛   .   .   .   .   .  \n",
      " .   .   .   .   .   .   .   .   .   .  \n",
      " .   .   ♛   ♛   .   .   ♛   .   .   .  \n",
      " .   .   .   .   .   .   .   .   .   .  \n",
      " .   .   .   .   .   .   .   .   .   ♛  \n",
      " .   .   .   .   .   .   .   .   .   .  \n",
      "\n",
      "Unexpected exception formatting exception. Falling back to standard exception\n"
     ]
    },
    {
     "name": "stderr",
     "output_type": "stream",
     "text": [
      "Traceback (most recent call last):\n",
      "  File \"/opt/homebrew/lib/python3.11/site-packages/IPython/core/interactiveshell.py\", line 3526, in run_code\n",
      "    exec(code_obj, self.user_global_ns, self.user_ns)\n",
      "  File \"/var/folders/z7/vlgvbl8x6dngj8pyq_b7qrqc0000gn/T/ipykernel_8545/1777245051.py\", line 5, in <module>\n",
      "    n_queens()\n",
      "  File \"/var/folders/z7/vlgvbl8x6dngj8pyq_b7qrqc0000gn/T/ipykernel_8545/2701055281.py\", line 9, in n_queens\n",
      "    row_confs = row_conf(columns, size, col)\n",
      "                ^^^^^^^^^^^^^^^^^^^^^^^^^^^^\n",
      "  File \"/var/folders/z7/vlgvbl8x6dngj8pyq_b7qrqc0000gn/T/ipykernel_8545/978090543.py\", line -1, in row_conf\n",
      "KeyboardInterrupt\n",
      "\n",
      "During handling of the above exception, another exception occurred:\n",
      "\n",
      "Traceback (most recent call last):\n",
      "  File \"/opt/homebrew/lib/python3.11/site-packages/IPython/core/interactiveshell.py\", line 2120, in showtraceback\n",
      "    stb = self.InteractiveTB.structured_traceback(\n",
      "          ^^^^^^^^^^^^^^^^^^^^^^^^^^^^^^^^^^^^^^^^\n",
      "  File \"/opt/homebrew/lib/python3.11/site-packages/IPython/core/ultratb.py\", line 1435, in structured_traceback\n",
      "    return FormattedTB.structured_traceback(\n",
      "           ^^^^^^^^^^^^^^^^^^^^^^^^^^^^^^^^^\n",
      "  File \"/opt/homebrew/lib/python3.11/site-packages/IPython/core/ultratb.py\", line 1326, in structured_traceback\n",
      "    return VerboseTB.structured_traceback(\n",
      "           ^^^^^^^^^^^^^^^^^^^^^^^^^^^^^^^\n",
      "  File \"/opt/homebrew/lib/python3.11/site-packages/IPython/core/ultratb.py\", line 1173, in structured_traceback\n",
      "    formatted_exception = self.format_exception_as_a_whole(etype, evalue, etb, number_of_lines_of_context,\n",
      "                          ^^^^^^^^^^^^^^^^^^^^^^^^^^^^^^^^^^^^^^^^^^^^^^^^^^^^^^^^^^^^^^^^^^^^^^^^^^^^^^^^\n",
      "  File \"/opt/homebrew/lib/python3.11/site-packages/IPython/core/ultratb.py\", line 1088, in format_exception_as_a_whole\n",
      "    frames.append(self.format_record(record))\n",
      "                  ^^^^^^^^^^^^^^^^^^^^^^^^^^\n",
      "  File \"/opt/homebrew/lib/python3.11/site-packages/IPython/core/ultratb.py\", line 970, in format_record\n",
      "    frame_info.lines, Colors, self.has_colors, lvals\n",
      "    ^^^^^^^^^^^^^^^^\n",
      "  File \"/opt/homebrew/lib/python3.11/site-packages/IPython/core/ultratb.py\", line 792, in lines\n",
      "    return self._sd.lines\n",
      "           ^^^^^^^^^^^^^^\n",
      "  File \"/opt/homebrew/lib/python3.11/site-packages/stack_data/utils.py\", line 144, in cached_property_wrapper\n",
      "    value = obj.__dict__[self.func.__name__] = self.func(obj)\n",
      "                                               ^^^^^^^^^^^^^^\n",
      "  File \"/opt/homebrew/lib/python3.11/site-packages/stack_data/core.py\", line 734, in lines\n",
      "    pieces = self.included_pieces\n",
      "             ^^^^^^^^^^^^^^^^^^^^\n",
      "  File \"/opt/homebrew/lib/python3.11/site-packages/stack_data/utils.py\", line 144, in cached_property_wrapper\n",
      "    value = obj.__dict__[self.func.__name__] = self.func(obj)\n",
      "                                               ^^^^^^^^^^^^^^\n",
      "  File \"/opt/homebrew/lib/python3.11/site-packages/stack_data/core.py\", line 681, in included_pieces\n",
      "    pos = scope_pieces.index(self.executing_piece)\n",
      "                             ^^^^^^^^^^^^^^^^^^^^\n",
      "  File \"/opt/homebrew/lib/python3.11/site-packages/stack_data/utils.py\", line 144, in cached_property_wrapper\n",
      "    value = obj.__dict__[self.func.__name__] = self.func(obj)\n",
      "                                               ^^^^^^^^^^^^^^\n",
      "  File \"/opt/homebrew/lib/python3.11/site-packages/stack_data/core.py\", line 660, in executing_piece\n",
      "    return only(\n",
      "           ^^^^^\n",
      "  File \"/opt/homebrew/lib/python3.11/site-packages/executing/executing.py\", line 190, in only\n",
      "    raise NotOneValueFound('Expected one value, found 0')\n",
      "executing.executing.NotOneValueFound: Expected one value, found 0\n"
     ]
    }
   ],
   "source": [
    "size = 10\n",
    "place_n_queens(size)\n",
    "display()\n",
    "print()\n",
    "n_queens()"
   ]
  },
  {
   "cell_type": "code",
   "execution_count": null,
   "metadata": {},
   "outputs": [],
   "source": []
  }
 ],
 "metadata": {
  "interpreter": {
   "hash": "b0fa6594d8f4cbf19f97940f81e996739fb7646882a419484c72d19e05852a7e"
  },
  "kernelspec": {
   "display_name": "Python 3.11.3 64-bit",
   "language": "python",
   "name": "python3"
  },
  "language_info": {
   "codemirror_mode": {
    "name": "ipython",
    "version": 3
   },
   "file_extension": ".py",
   "mimetype": "text/x-python",
   "name": "python",
   "nbconvert_exporter": "python",
   "pygments_lexer": "ipython3",
   "version": "3.11.3"
  },
  "orig_nbformat": 4
 },
 "nbformat": 4,
 "nbformat_minor": 2
}
