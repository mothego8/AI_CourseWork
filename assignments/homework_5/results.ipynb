{
 "cells": [
  {
   "cell_type": "code",
   "execution_count": 1,
   "metadata": {},
   "outputs": [],
   "source": [
    "import play\n",
    "import time\n",
    "import pandas as pd"
   ]
  },
  {
   "cell_type": "code",
   "execution_count": 2,
   "metadata": {},
   "outputs": [
    {
     "name": "stdout",
     "output_type": "stream",
     "text": [
      "Illegal move.\n",
      "\n",
      "| |X| | | | | |\n",
      "| |O| |O| | | |\n",
      "| |O| |O| |O| |\n",
      "| |X| |X| |X| |\n",
      "| |X|O|X| |X|O|\n",
      "|X|O|X|X|O|O|X|\n",
      " 0 1 2 3 4 5 6\n",
      "The MC agent beat the baseline: 100  out of  100\n",
      "total time for random: 369.8703649044037\n"
     ]
    }
   ],
   "source": [
    "tic = time.time()\n",
    "random_acc = play.connect_four(\"random\")\n",
    "toc = time.time()\n",
    "total_time_random = toc-tic\n",
    "print(\"total time for random: \" + str(total_time_random))"
   ]
  },
  {
   "cell_type": "code",
   "execution_count": 3,
   "metadata": {},
   "outputs": [
    {
     "name": "stdout",
     "output_type": "stream",
     "text": [
      "The MC agent beat the baseline: 99  out of  100\n",
      "total time for heuristic: 298.74576473236084\n"
     ]
    }
   ],
   "source": [
    "tic = time.time()\n",
    "heuristic_acc = play.connect_four(\"heuristic\")\n",
    "toc = time.time()\n",
    "total_time_heuristic = toc-tic\n",
    "print(\"total time for heuristic: \" + str(total_time_heuristic))"
   ]
  },
  {
   "cell_type": "code",
   "execution_count": 6,
   "metadata": {},
   "outputs": [
    {
     "name": "stdout",
     "output_type": "stream",
     "text": [
      "          Accuracy  Time (seconds)\n",
      "Random        100%      369.870365\n",
      "Heuristic      99%      298.745765\n"
     ]
    }
   ],
   "source": [
    "\n",
    "\n",
    "# Create a DataFrame\n",
    "data = {\n",
    "    'Accuracy': [str(random_acc) + \"%\", str(heuristic_acc)+ \"%\"],\n",
    "    'Time (seconds)': [total_time_random, total_time_heuristic],\n",
    "}\n",
    "\n",
    "index = ['Random', 'Heuristic']\n",
    "\n",
    "df = pd.DataFrame(data, index=index)\n",
    "print(df)"
   ]
  }
 ],
 "metadata": {
  "interpreter": {
   "hash": "b0fa6594d8f4cbf19f97940f81e996739fb7646882a419484c72d19e05852a7e"
  },
  "kernelspec": {
   "display_name": "Python 3.11.3 64-bit",
   "language": "python",
   "name": "python3"
  },
  "language_info": {
   "codemirror_mode": {
    "name": "ipython",
    "version": 3
   },
   "file_extension": ".py",
   "mimetype": "text/x-python",
   "name": "python",
   "nbconvert_exporter": "python",
   "pygments_lexer": "ipython3",
   "version": "3.11.3"
  },
  "orig_nbformat": 4
 },
 "nbformat": 4,
 "nbformat_minor": 2
}
